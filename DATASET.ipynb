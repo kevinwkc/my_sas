{
 "cells": [
  {
   "cell_type": "markdown",
   "metadata": {},
   "source": [
    "FILTER\n",
    "===============\n",
    "```\n",
    "DATA WOMEN;\n",
    "   SET ALL;\n",
    "   WHERE GENDER = 'F'; ** faster than IF;\n",
    "   IF GENDER = 'F'; **WHERE GENDER IS F;\n",
    "RUN;\n",
    "```"
   ]
  },
  {
   "cell_type": "markdown",
   "metadata": {},
   "source": [
    "MERGE\n",
    "=============\n",
    "```\n",
    "\n",
    "   SS       NAME\n",
    "-------------------\n",
    "123-45-6789 CODY\n",
    "987-65-4321 SMITH\n",
    "111-22-3333 GREGORY         Master Data\n",
    "222-33-4444 HAMER\n",
    "777-66-5555 CHAMBLISS\n",
    "\n",
    "    SS      SCORE\n",
    "-------------------\n",
    "123-45-6789 100\n",
    "987-65-4321 67              Test Data\n",
    "222-33-4444 92\n",
    "\n",
    "ROC SORT DATA=MASTER;\n",
    "   BY SS;\n",
    "RUN;\n",
    "\n",
    "PROC SORT DATA=TEST;\n",
    "   BY SS;\n",
    "RUN;\n",
    "DATA BOTH;\n",
    "   MERGE MASTER TEST;\n",
    "      BY SS;\n",
    "   FORMAT SS SSN11.;\n",
    "RUN;\n",
    "```\n",
    "\n",
    "### LEFT JOIN\n",
    "```\n",
    "merge a(in=inA) B(in=inB)\n",
    "by x;\n",
    "if inA; //return 1 if x is in a set\n",
    "RUN;\n",
    "\n",
    "```\n",
    "\n",
    "RESTUCTURE DATA WITH ARRAY\n",
    "============================="
   ]
  },
  {
   "cell_type": "raw",
   "metadata": {},
   "source": [
    "DATA NEW_DX;\n",
    "   SET DIAGNOSE;\n",
    "   ARRAY DXARRAY[3] DX1 - DX3;\n",
    "\n",
    "   DO I = 1 TO 3;\n",
    "      DX = DXARRAY[I];\n",
    "      IF DX NE . THEN OUTPUT;\n",
    "   END;\n",
    "\n",
    "   KEEP ID DX;\n",
    "RUN;\n",
    "\n",
    "PROC FREQ DATA=NEW_DX;\n",
    "   TABLES DX / NOCUM;\n",
    "RUN;\n"
   ]
  },
  {
   "cell_type": "markdown",
   "metadata": {},
   "source": [
    "Array List is omitted\n",
    "===========================\n",
    "the variable names default to the array name, followed by the numbers from the lower bound to the upper bound"
   ]
  },
  {
   "cell_type": "raw",
   "metadata": {},
   "source": [
    "DATA MANYPER;\n",
    "   SET ONEPER;\n",
    "   ARRAY S[3];  *** EQUIVALENT TO: ARRAY S[3] S1-S3;\n",
    "\n",
    "   DO TIME = 1 TO 3;\n",
    "      SCORE = S[TIME];\n",
    "      OUTPUT;\n",
    "   END;\n",
    "\n",
    "   KEEP ID TIME SCORE;\n",
    "RUN;"
   ]
  },
  {
   "cell_type": "markdown",
   "metadata": {},
   "source": [
    "Multi-Dim Array WIDE TO LONG\n",
    "===================="
   ]
  },
  {
   "cell_type": "raw",
   "metadata": {},
   "source": [
    "DATA MANYPER;\n",
    "   SET ONEPER;\n",
    "   ARRAY S[3];\n",
    "\n",
    "   DO TIME = 1 TO 3;\n",
    "      SCORE = S[TIME];\n",
    "      OUTPUT;\n",
    "   END;\n",
    "\n",
    "   KEEP ID TIME SCORE;\n",
    "RUN;"
   ]
  },
  {
   "cell_type": "raw",
   "metadata": {},
   "source": [
    "      Data Set WT_ONE\n",
    "\n",
    "ID   WT1  WT2  WT3  WT4  WT5  WT6\n",
    "---------------------------------\n",
    "01   155  158  162  149  148  147\n",
    "02   110  112  114  107  108  109\n",
    "\n",
    "DATA WT_MANY;\n",
    "   SET WT_ONE;\n",
    "\n",
    "   ARRAY WTS [2,3] WT1-WT6;\n",
    "\n",
    "   DO COND = 1 TO 2;\n",
    "      DO TIME = 1 TO 3;\n",
    "         WEIGHT = WTS[COND,TIME];\n",
    "         OUTPUT;\n",
    "      END;\n",
    "   END;\n",
    "\n",
    "   DROP WT1-WT6;\n",
    "\n",
    "RUN;\n"
   ]
  },
  {
   "cell_type": "markdown",
   "metadata": {},
   "source": [
    "LONG TO WIDE\n",
    "====================="
   ]
  },
  {
   "cell_type": "raw",
   "metadata": {},
   "source": [
    "PROC SORT DATA=MANYPER;\n",
    "   BY ID TIME;\n",
    "RUN;\n",
    "\n",
    "DATA ONEPER;\n",
    "   ARRAY S[3] S1-S3;\n",
    "   RETAIN S1-S3;\n",
    "   SET MANYPER;\n",
    "   BY ID;\n",
    "   S[TIME] = SCORE;\n",
    "   IF LAST.ID THEN OUTPUT;\n",
    "   KEEP ID S1-S3;\n",
    "RUN;"
   ]
  },
  {
   "cell_type": "raw",
   "metadata": {},
   "source": [
    "PROC SORT DATA=WT_MANY;\n",
    "   BY ID COND TIME;\n",
    "RUN;\n",
    "\n",
    "DATA WT_ONE;\n",
    "   ARRAY WT[2,3] WT1-WT6;\n",
    "   RETAIN WT1-WT6;\n",
    "   SET WT_MANY;\n",
    "   BY ID;\n",
    "   IF FIRST.ID THEN\n",
    "   DO I = 1 TO  2;\n",
    "      DO J = 1 TO 3;\n",
    "         WT[I,J] = .;\n",
    "      END;\n",
    "   END;\n",
    "   WT[COND,TIME] = WEIGHT;\n",
    "   IF LAST.ID THEN OUTPUT;\n",
    "   KEEP ID WT1-WT6;\n",
    "RUN;\n",
    "\n",
    "PROC PRINT DATA=WT_ONE;\n",
    "   TITLE 'WT_ONE Again';\n",
    "RUN;"
   ]
  }
 ],
 "metadata": {
  "kernelspec": {
   "display_name": "SAS",
   "language": "sas",
   "name": "sas"
  },
  "language_info": {
   "codemirror_mode": "sas",
   "file_extension": ".sas",
   "mimetype": "text/x-sas",
   "name": "sas"
  }
 },
 "nbformat": 4,
 "nbformat_minor": 0
}
