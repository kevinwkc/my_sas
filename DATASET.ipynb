{
 "cells": [
  {
   "cell_type": "markdown",
   "metadata": {},
   "source": [
    "FILTER\n",
    "===============\n",
    "```\n",
    "DATA WOMEN;\n",
    "   SET ALL;\n",
    "   WHERE GENDER = 'F'; ** faster than IF;\n",
    "   IF GENDER = 'F'; **WHERE GENDER IS F;\n",
    "RUN;\n",
    "```"
   ]
  },
  {
   "cell_type": "markdown",
   "metadata": {},
   "source": [
    "MERGE\n",
    "=============\n",
    "```\n",
    "\n",
    "   SS       NAME\n",
    "-------------------\n",
    "123-45-6789 CODY\n",
    "987-65-4321 SMITH\n",
    "111-22-3333 GREGORY         Master Data\n",
    "222-33-4444 HAMER\n",
    "777-66-5555 CHAMBLISS\n",
    "\n",
    "    SS      SCORE\n",
    "-------------------\n",
    "123-45-6789 100\n",
    "987-65-4321 67              Test Data\n",
    "222-33-4444 92\n",
    "\n",
    "ROC SORT DATA=MASTER;\n",
    "   BY SS;\n",
    "RUN;\n",
    "\n",
    "PROC SORT DATA=TEST;\n",
    "   BY SS;\n",
    "RUN;\n",
    "DATA BOTH;\n",
    "   MERGE MASTER TEST;\n",
    "      BY SS;\n",
    "   FORMAT SS SSN11.;\n",
    "RUN;\n",
    "```\n",
    "\n",
    "### LEFT JOIN\n",
    "```\n",
    "merge a(in=inA) B(in=inB)\n",
    "by x;\n",
    "if inA; //return 1 if x is in a set\n",
    "RUN;\n",
    "\n",
    "```"
   ]
  }
 ],
 "metadata": {
  "kernelspec": {
   "display_name": "SAS",
   "language": "sas",
   "name": "sas"
  },
  "language_info": {
   "codemirror_mode": "sas",
   "file_extension": ".sas",
   "mimetype": "text/x-sas",
   "name": "sas"
  }
 },
 "nbformat": 4,
 "nbformat_minor": 0
}
